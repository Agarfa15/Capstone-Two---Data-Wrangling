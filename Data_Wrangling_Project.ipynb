{
 "cells": [
  {
   "cell_type": "markdown",
   "metadata": {},
   "source": [
    "# Capstone Two: Data Wrangling"
   ]
  },
  {
   "cell_type": "markdown",
   "metadata": {},
   "source": [
    "## 1. Data Collection"
   ]
  },
  {
   "cell_type": "markdown",
   "metadata": {
    "id": "data_collection_intro"
   },
   "source": [
    "\n",
    "- `synthetic_invoices.csv`\n",
    "- `synthetic_vials.csv`\n",
    "- `synthetic_dispense_log.csv`\n",
    "- `synthetic_claims.csv`\n",
    "These files will be loaded into pandas DataFrames and then merged together."
   ]
  },
  {
   "cell_type": "code",
   "execution_count": 4,
   "metadata": {
    "id": "e1c2d7b1"
   },
   "outputs": [],
   "source": [
    "import pandas as pd\n",
    "import numpy as np\n",
    "\n",
    "# Load datasets\n",
    "try:\n",
    "    invoices_df = pd.read_csv(\"synthetic_invoices.csv\")\n",
    "    vials_df = pd.read_csv(\"synthetic_vials.csv\")\n",
    "    dispense_log_df = pd.read_csv(\"synthetic_dispense_log.csv\")\n",
    "    claims_df = pd.read_csv(\"synthetic_claims.csv\")\n",
    "except FileNotFoundError as e:\n",
    "    print(f\"Error loading data: {e}. Please ensure all CSV files are in the correct directory.\")\n",
    "    raise"
   ]
  },
  {
   "cell_type": "markdown",
   "metadata": {},
   "source": [
    "### Data Joining\n",
    "The DataFrames are merged sequentially using left joins to create a comprehensive dataset. The process starts with `vials_df` and progressively incorporates invoice, dispense, and claim information."
   ]
  },
  {
   "cell_type": "code",
   "execution_count": 6,
   "metadata": {
    "id": "c5f7e5b6"
   },
   "outputs": [],
   "source": [
    "# Merge datasets into a single DataFrame\n",
    "vial_invoice_df = pd.merge(vials_df, invoices_df, on=\"Invoice Number\", how=\"left\")\n",
    "full_df = pd.merge(vial_invoice_df, dispense_log_df, on=\"Vial Number\", how=\"left\")\n",
    "full_df = pd.merge(full_df, claims_df, on=\"Dispense ID\", how=\"left\")"
   ]
  },
  {
   "cell_type": "markdown",
   "metadata": {},
   "source": [
    "## 2. Data Organization"
   ]
  },
  {
   "cell_type": "markdown",
   "metadata": {},
   "source": [
    "A well-organized file structure is crucial for project reproducibility and clarity. For this project, a dedicated directory has been created which contains:\n",
    "- A `data` subdirectory for the raw CSV files.\n",
    "- This Jupyter Notebook (`.ipynb`) for the data wrangling process.\n",
    "- A `README.md` file explaining the project.\n",
    "\n",
    "This entire project is managed using a **GitHub repository**. This is essential for version control, collaboration, and showcasing the work."
   ]
  },
  {
   "cell_type": "markdown",
   "metadata": {},
   "source": [
    "## 3. Data Definition"
   ]
  },
  {
   "cell_type": "markdown",
   "metadata": {},
   "source": [
    "In this step, we'll gain a thorough understanding of the merged dataset's features. This involves examining column names, data types, value ranges, and summary statistics to identify any potential issues before cleaning."
   ]
  },
  {
   "cell_type": "code",
   "execution_count": 11,
   "metadata": {},
   "outputs": [
    {
     "data": {
      "text/html": [
       "<div>\n",
       "<style scoped>\n",
       "    .dataframe tbody tr th:only-of-type {\n",
       "        vertical-align: middle;\n",
       "    }\n",
       "\n",
       "    .dataframe tbody tr th {\n",
       "        vertical-align: top;\n",
       "    }\n",
       "\n",
       "    .dataframe thead th {\n",
       "        text-align: right;\n",
       "    }\n",
       "</style>\n",
       "<table border=\"1\" class=\"dataframe\">\n",
       "  <thead>\n",
       "    <tr style=\"text-align: right;\">\n",
       "      <th></th>\n",
       "      <th>Vial Number</th>\n",
       "      <th>Lot Number</th>\n",
       "      <th>Expiration Date</th>\n",
       "      <th>Purchase Price</th>\n",
       "      <th>Invoice Number</th>\n",
       "      <th>Invoice Date</th>\n",
       "      <th>Total Amount</th>\n",
       "      <th>Provider</th>\n",
       "      <th>Location</th>\n",
       "      <th>Dispense ID</th>\n",
       "      <th>Patient ID</th>\n",
       "      <th>Date Of Dispense</th>\n",
       "      <th>Username</th>\n",
       "      <th>Unscanned</th>\n",
       "      <th>Claim ID</th>\n",
       "      <th>Claim Date</th>\n",
       "      <th>Amount</th>\n",
       "      <th>Denied</th>\n",
       "    </tr>\n",
       "  </thead>\n",
       "  <tbody>\n",
       "    <tr>\n",
       "      <th>0</th>\n",
       "      <td>VN-0000001</td>\n",
       "      <td>LOT-5169460</td>\n",
       "      <td>2026-04-30</td>\n",
       "      <td>$50.00</td>\n",
       "      <td>INV-000402</td>\n",
       "      <td>2025-07-28</td>\n",
       "      <td>902.06</td>\n",
       "      <td>Eye Care BigTown</td>\n",
       "      <td>BigTown</td>\n",
       "      <td>NaN</td>\n",
       "      <td>NaN</td>\n",
       "      <td>NaN</td>\n",
       "      <td>NaN</td>\n",
       "      <td>NaN</td>\n",
       "      <td>NaN</td>\n",
       "      <td>NaN</td>\n",
       "      <td>NaN</td>\n",
       "      <td>NaN</td>\n",
       "    </tr>\n",
       "    <tr>\n",
       "      <th>1</th>\n",
       "      <td>VN-0000002</td>\n",
       "      <td>LOT-5228790</td>\n",
       "      <td>2026-04-30</td>\n",
       "      <td>$50.00</td>\n",
       "      <td>INV-000637</td>\n",
       "      <td>2025-06-15</td>\n",
       "      <td>2237.03</td>\n",
       "      <td>EyeCare Smallville</td>\n",
       "      <td>Smallville</td>\n",
       "      <td>DISP-000293</td>\n",
       "      <td>676660.0</td>\n",
       "      <td>2025-04-15</td>\n",
       "      <td>asha.lou</td>\n",
       "      <td>False</td>\n",
       "      <td>CLM-000293</td>\n",
       "      <td>2025-07-28</td>\n",
       "      <td>153.83</td>\n",
       "      <td>False</td>\n",
       "    </tr>\n",
       "    <tr>\n",
       "      <th>2</th>\n",
       "      <td>VN-0000003</td>\n",
       "      <td>LOT-5134343</td>\n",
       "      <td>2026-04-30</td>\n",
       "      <td>$50.00</td>\n",
       "      <td>INV-000757</td>\n",
       "      <td>2025-07-06</td>\n",
       "      <td>2480.64</td>\n",
       "      <td>EyeCare Smallville</td>\n",
       "      <td>BigTown</td>\n",
       "      <td>NaN</td>\n",
       "      <td>NaN</td>\n",
       "      <td>NaN</td>\n",
       "      <td>NaN</td>\n",
       "      <td>NaN</td>\n",
       "      <td>NaN</td>\n",
       "      <td>NaN</td>\n",
       "      <td>NaN</td>\n",
       "      <td>NaN</td>\n",
       "    </tr>\n",
       "    <tr>\n",
       "      <th>3</th>\n",
       "      <td>VN-0000004</td>\n",
       "      <td>LOT-4417439</td>\n",
       "      <td>2026-04-30</td>\n",
       "      <td>$50.00</td>\n",
       "      <td>INV-000284</td>\n",
       "      <td>2025-04-26</td>\n",
       "      <td>2514.06</td>\n",
       "      <td>EyeCare Smallville</td>\n",
       "      <td>BigTown</td>\n",
       "      <td>DISP-004397</td>\n",
       "      <td>962805.0</td>\n",
       "      <td>2025-04-10</td>\n",
       "      <td>jen.kirby</td>\n",
       "      <td>False</td>\n",
       "      <td>CLM-004397</td>\n",
       "      <td>2025-06-19</td>\n",
       "      <td>116.12</td>\n",
       "      <td>False</td>\n",
       "    </tr>\n",
       "    <tr>\n",
       "      <th>4</th>\n",
       "      <td>VN-0000005</td>\n",
       "      <td>LOT-8583121</td>\n",
       "      <td>2026-04-30</td>\n",
       "      <td>$50.00</td>\n",
       "      <td>INV-000303</td>\n",
       "      <td>2025-02-12</td>\n",
       "      <td>4599.87</td>\n",
       "      <td>EyeCare Smallville</td>\n",
       "      <td>Smallville</td>\n",
       "      <td>DISP-006754</td>\n",
       "      <td>464413.0</td>\n",
       "      <td>2025-04-12</td>\n",
       "      <td>kasey.convertem</td>\n",
       "      <td>False</td>\n",
       "      <td>CLM-006754</td>\n",
       "      <td>2025-06-11</td>\n",
       "      <td>124.73</td>\n",
       "      <td>False</td>\n",
       "    </tr>\n",
       "  </tbody>\n",
       "</table>\n",
       "</div>"
      ],
      "text/plain": [
       "  Vial Number   Lot Number Expiration Date Purchase Price Invoice Number  \\\n",
       "0  VN-0000001  LOT-5169460      2026-04-30         $50.00     INV-000402   \n",
       "1  VN-0000002  LOT-5228790      2026-04-30         $50.00     INV-000637   \n",
       "2  VN-0000003  LOT-5134343      2026-04-30         $50.00     INV-000757   \n",
       "3  VN-0000004  LOT-4417439      2026-04-30         $50.00     INV-000284   \n",
       "4  VN-0000005  LOT-8583121      2026-04-30         $50.00     INV-000303   \n",
       "\n",
       "  Invoice Date  Total Amount            Provider    Location  Dispense ID  \\\n",
       "0   2025-07-28        902.06    Eye Care BigTown     BigTown          NaN   \n",
       "1   2025-06-15       2237.03  EyeCare Smallville  Smallville  DISP-000293   \n",
       "2   2025-07-06       2480.64  EyeCare Smallville     BigTown          NaN   \n",
       "3   2025-04-26       2514.06  EyeCare Smallville     BigTown  DISP-004397   \n",
       "4   2025-02-12       4599.87  EyeCare Smallville  Smallville  DISP-006754   \n",
       "\n",
       "   Patient ID Date Of Dispense         Username Unscanned    Claim ID  \\\n",
       "0         NaN              NaN              NaN       NaN         NaN   \n",
       "1    676660.0       2025-04-15         asha.lou     False  CLM-000293   \n",
       "2         NaN              NaN              NaN       NaN         NaN   \n",
       "3    962805.0       2025-04-10        jen.kirby     False  CLM-004397   \n",
       "4    464413.0       2025-04-12  kasey.convertem     False  CLM-006754   \n",
       "\n",
       "   Claim Date  Amount Denied  \n",
       "0         NaN     NaN    NaN  \n",
       "1  2025-07-28  153.83  False  \n",
       "2         NaN     NaN    NaN  \n",
       "3  2025-06-19  116.12  False  \n",
       "4  2025-06-11  124.73  False  "
      ]
     },
     "execution_count": 11,
     "metadata": {},
     "output_type": "execute_result"
    }
   ],
   "source": [
    "full_df.head()"
   ]
  },
  {
   "cell_type": "code",
   "execution_count": 12,
   "metadata": {},
   "outputs": [
    {
     "name": "stdout",
     "output_type": "stream",
     "text": [
      "<class 'pandas.core.frame.DataFrame'>\n",
      "RangeIndex: 15754 entries, 0 to 15753\n",
      "Data columns (total 18 columns):\n",
      " #   Column            Non-Null Count  Dtype  \n",
      "---  ------            --------------  -----  \n",
      " 0   Vial Number       15754 non-null  object \n",
      " 1   Lot Number        15754 non-null  object \n",
      " 2   Expiration Date   15754 non-null  object \n",
      " 3   Purchase Price    15754 non-null  object \n",
      " 4   Invoice Number    15754 non-null  object \n",
      " 5   Invoice Date      15754 non-null  object \n",
      " 6   Total Amount      15754 non-null  float64\n",
      " 7   Provider          15754 non-null  object \n",
      " 8   Location          15754 non-null  object \n",
      " 9   Dispense ID       11000 non-null  object \n",
      " 10  Patient ID        11000 non-null  float64\n",
      " 11  Date Of Dispense  11000 non-null  object \n",
      " 12  Username          11000 non-null  object \n",
      " 13  Unscanned         11000 non-null  object \n",
      " 14  Claim ID          11000 non-null  object \n",
      " 15  Claim Date        11000 non-null  object \n",
      " 16  Amount            11000 non-null  float64\n",
      " 17  Denied            11000 non-null  object \n",
      "dtypes: float64(3), object(15)\n",
      "memory usage: 2.2+ MB\n"
     ]
    }
   ],
   "source": [
    "full_df.info()"
   ]
  },
  {
   "cell_type": "markdown",
   "metadata": {},
   "source": [
    "**Initial Observations from `.info()`:**\n",
    "1.  **Missing Values**: There are significant missing values (15746 - 10992 = 4754) in columns related to dispense and claim events. This is expected, as not all purchased vials have been dispensed.\n",
    "2.  **Incorrect Data Types**:\n",
    "    - `Purchase Price` is an `object` type due to the '$' symbol and should be a numeric type (`float`).\n",
    "    - `Date of Purchase`, `Date Of Dispense`, and `Claim Date` are `object` types and should be converted to `datetime` for time-series analysis.\n",
    "    - `Patient ID` is a `float`, which is unusual for an identifier. It should likely be an `integer` or `string`.\n",
    "    - `Unscanned` and `Denied` are `object` types but represent boolean states. They should be converted to the `bool` type."
   ]
  },
  {
   "cell_type": "code",
   "execution_count": 14,
   "metadata": {},
   "outputs": [
    {
     "data": {
      "text/html": [
       "<div>\n",
       "<style scoped>\n",
       "    .dataframe tbody tr th:only-of-type {\n",
       "        vertical-align: middle;\n",
       "    }\n",
       "\n",
       "    .dataframe tbody tr th {\n",
       "        vertical-align: top;\n",
       "    }\n",
       "\n",
       "    .dataframe thead th {\n",
       "        text-align: right;\n",
       "    }\n",
       "</style>\n",
       "<table border=\"1\" class=\"dataframe\">\n",
       "  <thead>\n",
       "    <tr style=\"text-align: right;\">\n",
       "      <th></th>\n",
       "      <th>Total Amount</th>\n",
       "      <th>Patient ID</th>\n",
       "      <th>Amount</th>\n",
       "    </tr>\n",
       "  </thead>\n",
       "  <tbody>\n",
       "    <tr>\n",
       "      <th>count</th>\n",
       "      <td>15754.000000</td>\n",
       "      <td>11000.000000</td>\n",
       "      <td>11000.000000</td>\n",
       "    </tr>\n",
       "    <tr>\n",
       "      <th>mean</th>\n",
       "      <td>2746.863912</td>\n",
       "      <td>550948.549818</td>\n",
       "      <td>130.446065</td>\n",
       "    </tr>\n",
       "    <tr>\n",
       "      <th>std</th>\n",
       "      <td>1279.527817</td>\n",
       "      <td>259157.789564</td>\n",
       "      <td>40.482171</td>\n",
       "    </tr>\n",
       "    <tr>\n",
       "      <th>min</th>\n",
       "      <td>500.170000</td>\n",
       "      <td>100033.000000</td>\n",
       "      <td>60.010000</td>\n",
       "    </tr>\n",
       "    <tr>\n",
       "      <th>25%</th>\n",
       "      <td>1646.940000</td>\n",
       "      <td>325000.250000</td>\n",
       "      <td>95.630000</td>\n",
       "    </tr>\n",
       "    <tr>\n",
       "      <th>50%</th>\n",
       "      <td>2758.380000</td>\n",
       "      <td>552737.000000</td>\n",
       "      <td>130.290000</td>\n",
       "    </tr>\n",
       "    <tr>\n",
       "      <th>75%</th>\n",
       "      <td>3820.770000</td>\n",
       "      <td>775434.750000</td>\n",
       "      <td>165.905000</td>\n",
       "    </tr>\n",
       "    <tr>\n",
       "      <th>max</th>\n",
       "      <td>4998.820000</td>\n",
       "      <td>999868.000000</td>\n",
       "      <td>199.980000</td>\n",
       "    </tr>\n",
       "  </tbody>\n",
       "</table>\n",
       "</div>"
      ],
      "text/plain": [
       "       Total Amount     Patient ID        Amount\n",
       "count  15754.000000   11000.000000  11000.000000\n",
       "mean    2746.863912  550948.549818    130.446065\n",
       "std     1279.527817  259157.789564     40.482171\n",
       "min      500.170000  100033.000000     60.010000\n",
       "25%     1646.940000  325000.250000     95.630000\n",
       "50%     2758.380000  552737.000000    130.290000\n",
       "75%     3820.770000  775434.750000    165.905000\n",
       "max     4998.820000  999868.000000    199.980000"
      ]
     },
     "execution_count": 14,
     "metadata": {},
     "output_type": "execute_result"
    }
   ],
   "source": [
    "# Summary statistics for numerical columns\n",
    "full_df.describe()"
   ]
  },
  {
   "cell_type": "code",
   "execution_count": 15,
   "metadata": {},
   "outputs": [
    {
     "data": {
      "text/html": [
       "<div>\n",
       "<style scoped>\n",
       "    .dataframe tbody tr th:only-of-type {\n",
       "        vertical-align: middle;\n",
       "    }\n",
       "\n",
       "    .dataframe tbody tr th {\n",
       "        vertical-align: top;\n",
       "    }\n",
       "\n",
       "    .dataframe thead th {\n",
       "        text-align: right;\n",
       "    }\n",
       "</style>\n",
       "<table border=\"1\" class=\"dataframe\">\n",
       "  <thead>\n",
       "    <tr style=\"text-align: right;\">\n",
       "      <th></th>\n",
       "      <th>Vial Number</th>\n",
       "      <th>Lot Number</th>\n",
       "      <th>Expiration Date</th>\n",
       "      <th>Purchase Price</th>\n",
       "      <th>Invoice Number</th>\n",
       "      <th>Invoice Date</th>\n",
       "      <th>Provider</th>\n",
       "      <th>Location</th>\n",
       "      <th>Dispense ID</th>\n",
       "      <th>Date Of Dispense</th>\n",
       "      <th>Username</th>\n",
       "      <th>Unscanned</th>\n",
       "      <th>Claim ID</th>\n",
       "      <th>Claim Date</th>\n",
       "      <th>Denied</th>\n",
       "    </tr>\n",
       "  </thead>\n",
       "  <tbody>\n",
       "    <tr>\n",
       "      <th>count</th>\n",
       "      <td>15754</td>\n",
       "      <td>15754</td>\n",
       "      <td>15754</td>\n",
       "      <td>15754</td>\n",
       "      <td>15754</td>\n",
       "      <td>15754</td>\n",
       "      <td>15754</td>\n",
       "      <td>15754</td>\n",
       "      <td>11000</td>\n",
       "      <td>11000</td>\n",
       "      <td>11000</td>\n",
       "      <td>11000</td>\n",
       "      <td>11000</td>\n",
       "      <td>11000</td>\n",
       "      <td>11000</td>\n",
       "    </tr>\n",
       "    <tr>\n",
       "      <th>unique</th>\n",
       "      <td>12000</td>\n",
       "      <td>11998</td>\n",
       "      <td>1</td>\n",
       "      <td>1</td>\n",
       "      <td>1200</td>\n",
       "      <td>242</td>\n",
       "      <td>2</td>\n",
       "      <td>2</td>\n",
       "      <td>11000</td>\n",
       "      <td>216</td>\n",
       "      <td>5</td>\n",
       "      <td>2</td>\n",
       "      <td>11000</td>\n",
       "      <td>216</td>\n",
       "      <td>2</td>\n",
       "    </tr>\n",
       "    <tr>\n",
       "      <th>top</th>\n",
       "      <td>VN-0004325</td>\n",
       "      <td>LOT-4069604</td>\n",
       "      <td>2026-04-30</td>\n",
       "      <td>$50.00</td>\n",
       "      <td>INV-000756</td>\n",
       "      <td>2025-04-30</td>\n",
       "      <td>Eye Care BigTown</td>\n",
       "      <td>BigTown</td>\n",
       "      <td>DISP-000293</td>\n",
       "      <td>2025-03-18</td>\n",
       "      <td>kasey.convertem</td>\n",
       "      <td>False</td>\n",
       "      <td>CLM-000293</td>\n",
       "      <td>2025-06-17</td>\n",
       "      <td>False</td>\n",
       "    </tr>\n",
       "    <tr>\n",
       "      <th>freq</th>\n",
       "      <td>6</td>\n",
       "      <td>6</td>\n",
       "      <td>15754</td>\n",
       "      <td>15754</td>\n",
       "      <td>33</td>\n",
       "      <td>151</td>\n",
       "      <td>7878</td>\n",
       "      <td>8270</td>\n",
       "      <td>1</td>\n",
       "      <td>71</td>\n",
       "      <td>2248</td>\n",
       "      <td>10378</td>\n",
       "      <td>1</td>\n",
       "      <td>69</td>\n",
       "      <td>10594</td>\n",
       "    </tr>\n",
       "  </tbody>\n",
       "</table>\n",
       "</div>"
      ],
      "text/plain": [
       "       Vial Number   Lot Number Expiration Date Purchase Price Invoice Number  \\\n",
       "count        15754        15754           15754          15754          15754   \n",
       "unique       12000        11998               1              1           1200   \n",
       "top     VN-0004325  LOT-4069604      2026-04-30         $50.00     INV-000756   \n",
       "freq             6            6           15754          15754             33   \n",
       "\n",
       "       Invoice Date          Provider Location  Dispense ID Date Of Dispense  \\\n",
       "count         15754             15754    15754        11000            11000   \n",
       "unique          242                 2        2        11000              216   \n",
       "top      2025-04-30  Eye Care BigTown  BigTown  DISP-000293       2025-03-18   \n",
       "freq            151              7878     8270            1               71   \n",
       "\n",
       "               Username Unscanned    Claim ID  Claim Date Denied  \n",
       "count             11000     11000       11000       11000  11000  \n",
       "unique                5         2       11000         216      2  \n",
       "top     kasey.convertem     False  CLM-000293  2025-06-17  False  \n",
       "freq               2248     10378           1          69  10594  "
      ]
     },
     "execution_count": 15,
     "metadata": {},
     "output_type": "execute_result"
    }
   ],
   "source": [
    "# Summary statistics for object columns\n",
    "full_df.describe(include='object')"
   ]
  },
  {
   "cell_type": "markdown",
   "metadata": {},
   "source": [
    "## 4. Data Cleaning"
   ]
  },
  {
   "cell_type": "markdown",
   "metadata": {},
   "source": [
    "Based on the data definition step, the following actions are required:\n",
    "1.  Correct the data types for `Purchase Price`, all date columns, `Patient ID`, `Unscanned`, and `Denied`.\n",
    "2.  Check for and handle any duplicate rows.\n",
    "3.  Address the missing values in a logical manner."
   ]
  },
  {
   "cell_type": "code",
   "execution_count": 18,
   "metadata": {},
   "outputs": [
    {
     "name": "stderr",
     "output_type": "stream",
     "text": [
      "<>:3: SyntaxWarning: invalid escape sequence '\\$'\n",
      "<>:3: SyntaxWarning: invalid escape sequence '\\$'\n",
      "C:\\Users\\rahul\\AppData\\Local\\Temp\\ipykernel_5740\\1813675566.py:3: SyntaxWarning: invalid escape sequence '\\$'\n",
      "  full_df['Purchase Price'] = full_df['Purchase Price'].replace({'\\$': ''}, regex=True).astype(float)\n"
     ]
    }
   ],
   "source": [
    "# 1. Correct Data Types\n",
    "# Clean and convert 'Purchase Price' to float\n",
    "full_df['Purchase Price'] = full_df['Purchase Price'].replace({'\\$': ''}, regex=True).astype(float)"
   ]
  },
  {
   "cell_type": "code",
   "execution_count": 23,
   "metadata": {},
   "outputs": [],
   "source": [
    "# Convert date columns to datetime objects\n",
    "date_columns = ['Expiration Date', 'Date Of Dispense', 'Claim Date','Invoice Date']\n",
    "for col in date_columns:\n",
    "    full_df[col] = pd.to_datetime(full_df[col], errors='coerce')"
   ]
  },
  {
   "cell_type": "code",
   "execution_count": 25,
   "metadata": {},
   "outputs": [],
   "source": [
    "# Convert boolean-like columns to boolean type\n",
    "bool_columns = ['Unscanned', 'Denied']\n",
    "for col in bool_columns:\n",
    "    full_df[col] = full_df[col].astype('boolean')"
   ]
  },
  {
   "cell_type": "code",
   "execution_count": 27,
   "metadata": {},
   "outputs": [],
   "source": [
    "# Convert 'Patient ID' to a nullable integer type\n",
    "full_df['Patient ID'] = full_df['Patient ID'].astype('Int64')"
   ]
  },
  {
   "cell_type": "code",
   "execution_count": 29,
   "metadata": {},
   "outputs": [
    {
     "name": "stdout",
     "output_type": "stream",
     "text": [
      "Data types corrected successfully.\n",
      "<class 'pandas.core.frame.DataFrame'>\n",
      "RangeIndex: 15754 entries, 0 to 15753\n",
      "Data columns (total 18 columns):\n",
      " #   Column            Non-Null Count  Dtype         \n",
      "---  ------            --------------  -----         \n",
      " 0   Vial Number       15754 non-null  object        \n",
      " 1   Lot Number        15754 non-null  object        \n",
      " 2   Expiration Date   15754 non-null  datetime64[ns]\n",
      " 3   Purchase Price    15754 non-null  float64       \n",
      " 4   Invoice Number    15754 non-null  object        \n",
      " 5   Invoice Date      15754 non-null  datetime64[ns]\n",
      " 6   Total Amount      15754 non-null  float64       \n",
      " 7   Provider          15754 non-null  object        \n",
      " 8   Location          15754 non-null  object        \n",
      " 9   Dispense ID       11000 non-null  object        \n",
      " 10  Patient ID        11000 non-null  Int64         \n",
      " 11  Date Of Dispense  11000 non-null  datetime64[ns]\n",
      " 12  Username          11000 non-null  object        \n",
      " 13  Unscanned         11000 non-null  boolean       \n",
      " 14  Claim ID          11000 non-null  object        \n",
      " 15  Claim Date        11000 non-null  datetime64[ns]\n",
      " 16  Amount            11000 non-null  float64       \n",
      " 17  Denied            11000 non-null  boolean       \n",
      "dtypes: Int64(1), boolean(2), datetime64[ns](4), float64(3), object(8)\n",
      "memory usage: 2.0+ MB\n"
     ]
    }
   ],
   "source": [
    "print(\"Data types corrected successfully.\")\n",
    "full_df.info()"
   ]
  },
  {
   "cell_type": "code",
   "execution_count": 31,
   "metadata": {},
   "outputs": [
    {
     "name": "stdout",
     "output_type": "stream",
     "text": [
      "Number of duplicate rows: 0\n",
      "No duplicates found.\n"
     ]
    }
   ],
   "source": [
    "# 2. Check for duplicates\n",
    "duplicates = full_df.duplicated().sum()\n",
    "print(f\"Number of duplicate rows: {duplicates}\")\n",
    "\n",
    "if duplicates > 0:\n",
    "    full_df = full_df.drop_duplicates()\n",
    "    print(\"Duplicates removed.\")\n",
    "else:\n",
    "    print(\"No duplicates found.\")"
   ]
  },
  {
   "cell_type": "code",
   "execution_count": 33,
   "metadata": {},
   "outputs": [
    {
     "name": "stdout",
     "output_type": "stream",
     "text": [
      "Missing values before handling:\n",
      "Dispense ID         4754\n",
      "Patient ID          4754\n",
      "Date Of Dispense    4754\n",
      "Username            4754\n",
      "Unscanned           4754\n",
      "Claim ID            4754\n",
      "Claim Date          4754\n",
      "Amount              4754\n",
      "Denied              4754\n",
      "dtype: int64\n",
      "Missing values handled appropriately.\n"
     ]
    },
    {
     "name": "stderr",
     "output_type": "stream",
     "text": [
      "C:\\Users\\rahul\\AppData\\Local\\Temp\\ipykernel_5740\\3758179693.py:9: FutureWarning: A value is trying to be set on a copy of a DataFrame or Series through chained assignment using an inplace method.\n",
      "The behavior will change in pandas 3.0. This inplace method will never work because the intermediate object on which we are setting values always behaves as a copy.\n",
      "\n",
      "For example, when doing 'df[col].method(value, inplace=True)', try using 'df.method({col: value}, inplace=True)' or df[col] = df[col].method(value) instead, to perform the operation inplace on the original object.\n",
      "\n",
      "\n",
      "  full_df['Unscanned'].fillna(False, inplace=True)\n",
      "C:\\Users\\rahul\\AppData\\Local\\Temp\\ipykernel_5740\\3758179693.py:10: FutureWarning: A value is trying to be set on a copy of a DataFrame or Series through chained assignment using an inplace method.\n",
      "The behavior will change in pandas 3.0. This inplace method will never work because the intermediate object on which we are setting values always behaves as a copy.\n",
      "\n",
      "For example, when doing 'df[col].method(value, inplace=True)', try using 'df.method({col: value}, inplace=True)' or df[col] = df[col].method(value) instead, to perform the operation inplace on the original object.\n",
      "\n",
      "\n",
      "  full_df['Denied'].fillna(False, inplace=True)\n",
      "C:\\Users\\rahul\\AppData\\Local\\Temp\\ipykernel_5740\\3758179693.py:11: FutureWarning: A value is trying to be set on a copy of a DataFrame or Series through chained assignment using an inplace method.\n",
      "The behavior will change in pandas 3.0. This inplace method will never work because the intermediate object on which we are setting values always behaves as a copy.\n",
      "\n",
      "For example, when doing 'df[col].method(value, inplace=True)', try using 'df.method({col: value}, inplace=True)' or df[col] = df[col].method(value) instead, to perform the operation inplace on the original object.\n",
      "\n",
      "\n",
      "  full_df['Amount'].fillna(0, inplace=True)\n"
     ]
    }
   ],
   "source": [
    "# 3. Handle missing values\n",
    "missing_values = full_df.isnull().sum()\n",
    "print(\"Missing values before handling:\")\n",
    "print(missing_values[missing_values > 0])\n",
    "\n",
    "# For vials that were never dispensed, it's logical that dispense/claim info is missing.\n",
    "# We will fill boolean columns with False and numerical 'Amount' with 0.\n",
    "# Other identifiers (like Dispense ID, Patient ID) will be left as NaN (or NaT for dates) as they represent a non-event.\n",
    "full_df['Unscanned'].fillna(False, inplace=True)\n",
    "full_df['Denied'].fillna(False, inplace=True)\n",
    "full_df['Amount'].fillna(0, inplace=True)\n",
    "\n",
    "print(\"Missing values handled appropriately.\")"
   ]
  },
  {
   "cell_type": "markdown",
   "metadata": {},
   "source": [
    "## 5. Analysis and Reporting"
   ]
  },
  {
   "cell_type": "markdown",
   "metadata": {},
   "source": [
    "With the data now wrangled and cleaned, we can perform the final analysis to derive insights."
   ]
  },
  {
   "cell_type": "code",
   "execution_count": 37,
   "metadata": {
    "id": "a3b4e7da"
   },
   "outputs": [
    {
     "name": "stdout",
     "output_type": "stream",
     "text": [
      "--- Ophthalmology Drug Tracking Analysis ---\n",
      "\n",
      "## Unscanned Vials Report (622 found)\n",
      "The following vials were dispensed but not scanned, leading to potential revenue loss:\n",
      "      Vial Number   Lot Number  Purchase Price  Dispense ID  Patient ID  \\\n",
      "6      VN-0000005  LOT-8583121            50.0  DISP-010328      567386   \n",
      "34     VN-0000025  LOT-5251569            50.0  DISP-003474      930415   \n",
      "50     VN-0000038  LOT-1985938            50.0  DISP-002492      435402   \n",
      "71     VN-0000050  LOT-8239582            50.0  DISP-007851      722927   \n",
      "77     VN-0000056  LOT-1894126            50.0  DISP-000043      702136   \n",
      "...           ...          ...             ...          ...         ...   \n",
      "15618  VN-0011891  LOT-1987565            50.0  DISP-000017      516499   \n",
      "15639  VN-0011906  LOT-6786924            50.0  DISP-000179      394925   \n",
      "15643  VN-0011910  LOT-7320978            50.0  DISP-005509      882115   \n",
      "15703  VN-0011959  LOT-3824453            50.0  DISP-006094      820014   \n",
      "15738  VN-0011989  LOT-1939158            50.0  DISP-010813      240671   \n",
      "\n",
      "      Date Of Dispense         Username  \n",
      "6           2025-05-04        jen.kirby  \n",
      "34          2025-03-01      dina.dropem  \n",
      "50          2025-05-08      dina.dropem  \n",
      "71          2025-06-11       sarah.benz  \n",
      "77          2025-08-30        jen.kirby  \n",
      "...                ...              ...  \n",
      "15618       2025-02-13        jen.kirby  \n",
      "15639       2025-06-14  kasey.convertem  \n",
      "15643       2025-02-28        jen.kirby  \n",
      "15703       2025-07-06        jen.kirby  \n",
      "15738       2025-03-28  kasey.convertem  \n",
      "\n",
      "[622 rows x 7 columns]\n"
     ]
    }
   ],
   "source": [
    "# Analyze and report\n",
    "print(\"--- Ophthalmology Drug Tracking Analysis ---\")\n",
    "\n",
    "# 1. Identify Unscanned Vials\n",
    "unscanned_vials = full_df[full_df['Unscanned'] == True]\n",
    "print(f\"\\n## Unscanned Vials Report ({len(unscanned_vials)} found)\")\n",
    "if not unscanned_vials.empty:\n",
    "    print(\"The following vials were dispensed but not scanned, leading to potential revenue loss:\")\n",
    "    print(unscanned_vials[['Vial Number', 'Lot Number', 'Purchase Price', 'Dispense ID', 'Patient ID', 'Date Of Dispense', 'Username']])\n",
    "else:\n",
    "    print(\"No unscanned vials found.\")"
   ]
  },
  {
   "cell_type": "code",
   "execution_count": 39,
   "metadata": {},
   "outputs": [
    {
     "name": "stdout",
     "output_type": "stream",
     "text": [
      "\n",
      "## Denied Claims Report (406 found)\n",
      "The following claims were denied by insurance:\n",
      "         Claim ID  Dispense ID Vial Number  Patient ID Claim Date  Amount\n",
      "6      CLM-010328  DISP-010328  VN-0000005      567386 2025-09-09   92.40\n",
      "50     CLM-002492  DISP-002492  VN-0000038      435402 2025-03-26  102.98\n",
      "71     CLM-007851  DISP-007851  VN-0000050      722927 2025-02-22  119.08\n",
      "77     CLM-000043  DISP-000043  VN-0000056      702136 2025-05-07   65.80\n",
      "201    CLM-008965  DISP-008965  VN-0000149      406197 2025-07-21  124.17\n",
      "...           ...          ...         ...         ...        ...     ...\n",
      "15574  CLM-006701  DISP-006701  VN-0011860      592974 2025-04-04  115.14\n",
      "15580  CLM-000525  DISP-000525  VN-0011864      720346 2025-08-23  146.53\n",
      "15583  CLM-005342  DISP-005342  VN-0011867      409574 2025-04-21  155.99\n",
      "15643  CLM-005509  DISP-005509  VN-0011910      882115 2025-03-19  174.90\n",
      "15703  CLM-006094  DISP-006094  VN-0011959      820014 2025-07-11  180.63\n",
      "\n",
      "[406 rows x 6 columns]\n"
     ]
    }
   ],
   "source": [
    "# 2. Identify Denied Claims\n",
    "denied_claims = full_df[full_df['Denied'] == True]\n",
    "print(f\"\\n## Denied Claims Report ({len(denied_claims)} found)\")\n",
    "if not denied_claims.empty:\n",
    "    print(\"The following claims were denied by insurance:\")\n",
    "    print(denied_claims[['Claim ID', 'Dispense ID', 'Vial Number', 'Patient ID', 'Claim Date', 'Amount']])\n",
    "else:\n",
    "    print(\"No denied claims found.\")"
   ]
  },
  {
   "cell_type": "code",
   "execution_count": 41,
   "metadata": {},
   "outputs": [
    {
     "name": "stdout",
     "output_type": "stream",
     "text": [
      "\n",
      "## Profitability Analysis\n",
      "Total Revenue from Reimbursed Claims: $1,381,695.61\n",
      "Total Cost of Goods Sold: $529,700.00\n",
      "Total Profit: $851,995.61\n",
      "\n",
      "### Top 5 Most Profitable Vials:\n",
      "      Vial Number  Purchase Price  Amount  Profit\n",
      "15     VN-0000010            50.0  199.98  149.98\n",
      "2695   VN-0002064            50.0  199.96  149.96\n",
      "13870  VN-0010556            50.0  199.94  149.94\n",
      "635    VN-0000473            50.0  199.91  149.91\n",
      "13145  VN-0010004            50.0  199.91  149.91\n",
      "\n",
      "### Top 5 Least Profitable Vials:\n",
      "      Vial Number  Purchase Price  Amount  Profit\n",
      "14142  VN-0010762            50.0   60.01   10.01\n",
      "6071   VN-0004649            50.0   60.03   10.03\n",
      "7035   VN-0005378            50.0   60.03   10.03\n",
      "14811  VN-0011287            50.0   60.03   10.03\n",
      "10549  VN-0008048            50.0   60.09   10.09\n"
     ]
    }
   ],
   "source": [
    "# 3. Profitability Analysis\n",
    "# A reimbursed claim is one that has a Claim ID, was not denied, and has a positive amount.\n",
    "reimbursed_claims = full_df[(full_df['Claim ID'].notna()) & (full_df['Denied'] == False)].copy()\n",
    "reimbursed_claims['Profit'] = reimbursed_claims['Amount'] - reimbursed_claims['Purchase Price']\n",
    "\n",
    "total_revenue = reimbursed_claims['Amount'].sum()\n",
    "total_cost = reimbursed_claims['Purchase Price'].sum()\n",
    "total_profit = reimbursed_claims['Profit'].sum()\n",
    "\n",
    "print(\"\\n## Profitability Analysis\")\n",
    "print(f\"Total Revenue from Reimbursed Claims: ${total_revenue:,.2f}\")\n",
    "print(f\"Total Cost of Goods Sold: ${total_cost:,.2f}\")\n",
    "print(f\"Total Profit: ${total_profit:,.2f}\")\n",
    "\n",
    "if not reimbursed_claims.empty:\n",
    "    print(\"\\n### Top 5 Most Profitable Vials:\")\n",
    "    print(reimbursed_claims.nlargest(5, 'Profit')[['Vial Number', 'Purchase Price', 'Amount', 'Profit']])\n",
    "    print(\"\\n### Top 5 Least Profitable Vials:\")\n",
    "    print(reimbursed_claims.nsmallest(5, 'Profit')[['Vial Number', 'Purchase Price', 'Amount', 'Profit']])"
   ]
  },
  {
   "cell_type": "code",
   "execution_count": null,
   "metadata": {},
   "outputs": [],
   "source": []
  }
 ],
 "metadata": {
  "kernelspec": {
   "display_name": "Python [conda env:base] *",
   "language": "python",
   "name": "conda-base-py"
  },
  "language_info": {
   "codemirror_mode": {
    "name": "ipython",
    "version": 3
   },
   "file_extension": ".py",
   "mimetype": "text/x-python",
   "name": "python",
   "nbconvert_exporter": "python",
   "pygments_lexer": "ipython3",
   "version": "3.12.7"
  }
 },
 "nbformat": 4,
 "nbformat_minor": 4
}
