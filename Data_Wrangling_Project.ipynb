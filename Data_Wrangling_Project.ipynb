{
 "cells": [
  {
   "cell_type": "markdown",
   "metadata": {},
   "source": [
    "# Data Wrangling Project"
   ]
  },
  {
   "cell_type": "code",
   "execution_count": 2,
   "metadata": {
    "id": "e1c2d7b1"
   },
   "outputs": [],
   "source": [
    "import pandas as pd"
   ]
  },
  {
   "cell_type": "code",
   "execution_count": 3,
   "metadata": {},
   "outputs": [],
   "source": [
    "# Load datasets\n",
    "try:\n",
    "    invoices_df = pd.read_csv(\"synthetic_invoices.csv\")\n",
    "    vials_df = pd.read_csv(\"synthetic_vials.csv\")\n",
    "    dispense_log_df = pd.read_csv(\"synthetic_dispense_log.csv\")\n",
    "    claims_df = pd.read_csv(\"synthetic_claims.csv\")\n",
    "except FileNotFoundError as e:\n",
    "    print(f\"Error loading data: {e}. Please ensure all CSV files are in the correct directory.\")\n",
    "    raise"
   ]
  },
  {
   "cell_type": "markdown",
   "metadata": {},
   "source": [
    "## Data Collection"
   ]
  },
  {
   "cell_type": "code",
   "execution_count": 5,
   "metadata": {
    "id": "c5f7e5b6"
   },
   "outputs": [
    {
     "name": "stderr",
     "output_type": "stream",
     "text": [
      "<>:2: SyntaxWarning: invalid escape sequence '\\$'\n",
      "<>:2: SyntaxWarning: invalid escape sequence '\\$'\n",
      "C:\\Users\\rahul\\AppData\\Local\\Temp\\ipykernel_2764\\4237928697.py:2: SyntaxWarning: invalid escape sequence '\\$'\n",
      "  vials_df['Purchase Price'] = vials_df['Purchase Price'].replace({'\\$': ''}, regex=True).astype(float)\n"
     ]
    }
   ],
   "source": [
    "# Clean 'Purchase Price' in vials_df\n",
    "vials_df['Purchase Price'] = vials_df['Purchase Price'].replace({'\\$': ''}, regex=True).astype(float)"
   ]
  },
  {
   "cell_type": "code",
   "execution_count": 6,
   "metadata": {},
   "outputs": [],
   "source": [
    "# Merge datasets\n",
    "vial_invoice_df = pd.merge(vials_df, invoices_df, on=\"Invoice Number\", how=\"left\")\n",
    "full_df = pd.merge(vial_invoice_df, dispense_log_df, on=\"Vial Number\", how=\"left\")\n",
    "full_df = pd.merge(full_df, claims_df, on=\"Dispense ID\", how=\"left\")"
   ]
  },
  {
   "cell_type": "markdown",
   "metadata": {},
   "source": [
    "## Data Cleaning"
   ]
  },
  {
   "cell_type": "code",
   "execution_count": 8,
   "metadata": {
    "id": "f4e2b8a2"
   },
   "outputs": [
    {
     "name": "stdout",
     "output_type": "stream",
     "text": [
      "Number of duplicate rows: 0\n"
     ]
    }
   ],
   "source": [
    "# Check for duplicates\n",
    "duplicates = full_df.duplicated().sum()\n",
    "print(f\"Number of duplicate rows: {duplicates}\")"
   ]
  },
  {
   "cell_type": "code",
   "execution_count": 9,
   "metadata": {},
   "outputs": [
    {
     "name": "stdout",
     "output_type": "stream",
     "text": [
      "No duplicates found.\n"
     ]
    }
   ],
   "source": [
    "# Remove duplicates if any\n",
    "if duplicates > 0:\n",
    "    full_df = full_df.drop_duplicates()\n",
    "    print(\"Duplicates removed.\")\n",
    "else:\n",
    "    print(\"No duplicates found.\")"
   ]
  },
  {
   "cell_type": "code",
   "execution_count": 10,
   "metadata": {},
   "outputs": [
    {
     "name": "stdout",
     "output_type": "stream",
     "text": [
      "Missing values in each column:\n",
      "Dispense ID         4754\n",
      "Patient ID          4754\n",
      "Date Of Dispense    4754\n",
      "Username            4754\n",
      "Unscanned           4754\n",
      "Claim ID            4754\n",
      "Claim Date          4754\n",
      "Amount              4754\n",
      "Denied              4754\n",
      "dtype: int64\n"
     ]
    }
   ],
   "source": [
    "# Check for missing values\n",
    "missing_values = full_df.isnull().sum()\n",
    "print(\"Missing values in each column:\")\n",
    "print(missing_values[missing_values > 0])"
   ]
  },
  {
   "cell_type": "code",
   "execution_count": 11,
   "metadata": {},
   "outputs": [
    {
     "name": "stdout",
     "output_type": "stream",
     "text": [
      "Missing values handled.\n"
     ]
    },
    {
     "name": "stderr",
     "output_type": "stream",
     "text": [
      "C:\\Users\\rahul\\AppData\\Local\\Temp\\ipykernel_2764\\4209051288.py:2: FutureWarning: DataFrame.fillna with 'method' is deprecated and will raise in a future version. Use obj.ffill() or obj.bfill() instead.\n",
      "  full_df.fillna(method='bfill', inplace=True)\n"
     ]
    }
   ],
   "source": [
    "# Handle missing values\n",
    "full_df.fillna(method='bfill', inplace=True)\n",
    "print(\"Missing values handled.\")"
   ]
  },
  {
   "cell_type": "markdown",
   "metadata": {},
   "source": [
    "## Data Organization"
   ]
  },
  {
   "cell_type": "code",
   "execution_count": 13,
   "metadata": {},
   "outputs": [
    {
     "data": {
      "text/html": [
       "<div>\n",
       "<style scoped>\n",
       "    .dataframe tbody tr th:only-of-type {\n",
       "        vertical-align: middle;\n",
       "    }\n",
       "\n",
       "    .dataframe tbody tr th {\n",
       "        vertical-align: top;\n",
       "    }\n",
       "\n",
       "    .dataframe thead th {\n",
       "        text-align: right;\n",
       "    }\n",
       "</style>\n",
       "<table border=\"1\" class=\"dataframe\">\n",
       "  <thead>\n",
       "    <tr style=\"text-align: right;\">\n",
       "      <th></th>\n",
       "      <th>Vial Number</th>\n",
       "      <th>Lot Number</th>\n",
       "      <th>Expiration Date</th>\n",
       "      <th>Purchase Price</th>\n",
       "      <th>Invoice Number</th>\n",
       "      <th>Invoice Date</th>\n",
       "      <th>Total Amount</th>\n",
       "      <th>Provider</th>\n",
       "      <th>Location</th>\n",
       "      <th>Dispense ID</th>\n",
       "      <th>Patient ID</th>\n",
       "      <th>Date Of Dispense</th>\n",
       "      <th>Username</th>\n",
       "      <th>Unscanned</th>\n",
       "      <th>Claim ID</th>\n",
       "      <th>Claim Date</th>\n",
       "      <th>Amount</th>\n",
       "      <th>Denied</th>\n",
       "    </tr>\n",
       "  </thead>\n",
       "  <tbody>\n",
       "    <tr>\n",
       "      <th>0</th>\n",
       "      <td>VN-0000001</td>\n",
       "      <td>LOT-5169460</td>\n",
       "      <td>2026-04-30</td>\n",
       "      <td>50.0</td>\n",
       "      <td>INV-000402</td>\n",
       "      <td>2025-07-28</td>\n",
       "      <td>902.06</td>\n",
       "      <td>Eye Care BigTown</td>\n",
       "      <td>BigTown</td>\n",
       "      <td>DISP-000293</td>\n",
       "      <td>676660.0</td>\n",
       "      <td>2025-04-15</td>\n",
       "      <td>asha.lou</td>\n",
       "      <td>False</td>\n",
       "      <td>CLM-000293</td>\n",
       "      <td>2025-07-28</td>\n",
       "      <td>153.83</td>\n",
       "      <td>False</td>\n",
       "    </tr>\n",
       "    <tr>\n",
       "      <th>1</th>\n",
       "      <td>VN-0000002</td>\n",
       "      <td>LOT-5228790</td>\n",
       "      <td>2026-04-30</td>\n",
       "      <td>50.0</td>\n",
       "      <td>INV-000637</td>\n",
       "      <td>2025-06-15</td>\n",
       "      <td>2237.03</td>\n",
       "      <td>EyeCare Smallville</td>\n",
       "      <td>Smallville</td>\n",
       "      <td>DISP-000293</td>\n",
       "      <td>676660.0</td>\n",
       "      <td>2025-04-15</td>\n",
       "      <td>asha.lou</td>\n",
       "      <td>False</td>\n",
       "      <td>CLM-000293</td>\n",
       "      <td>2025-07-28</td>\n",
       "      <td>153.83</td>\n",
       "      <td>False</td>\n",
       "    </tr>\n",
       "    <tr>\n",
       "      <th>2</th>\n",
       "      <td>VN-0000003</td>\n",
       "      <td>LOT-5134343</td>\n",
       "      <td>2026-04-30</td>\n",
       "      <td>50.0</td>\n",
       "      <td>INV-000757</td>\n",
       "      <td>2025-07-06</td>\n",
       "      <td>2480.64</td>\n",
       "      <td>EyeCare Smallville</td>\n",
       "      <td>BigTown</td>\n",
       "      <td>DISP-004397</td>\n",
       "      <td>962805.0</td>\n",
       "      <td>2025-04-10</td>\n",
       "      <td>jen.kirby</td>\n",
       "      <td>False</td>\n",
       "      <td>CLM-004397</td>\n",
       "      <td>2025-06-19</td>\n",
       "      <td>116.12</td>\n",
       "      <td>False</td>\n",
       "    </tr>\n",
       "    <tr>\n",
       "      <th>3</th>\n",
       "      <td>VN-0000004</td>\n",
       "      <td>LOT-4417439</td>\n",
       "      <td>2026-04-30</td>\n",
       "      <td>50.0</td>\n",
       "      <td>INV-000284</td>\n",
       "      <td>2025-04-26</td>\n",
       "      <td>2514.06</td>\n",
       "      <td>EyeCare Smallville</td>\n",
       "      <td>BigTown</td>\n",
       "      <td>DISP-004397</td>\n",
       "      <td>962805.0</td>\n",
       "      <td>2025-04-10</td>\n",
       "      <td>jen.kirby</td>\n",
       "      <td>False</td>\n",
       "      <td>CLM-004397</td>\n",
       "      <td>2025-06-19</td>\n",
       "      <td>116.12</td>\n",
       "      <td>False</td>\n",
       "    </tr>\n",
       "    <tr>\n",
       "      <th>4</th>\n",
       "      <td>VN-0000005</td>\n",
       "      <td>LOT-8583121</td>\n",
       "      <td>2026-04-30</td>\n",
       "      <td>50.0</td>\n",
       "      <td>INV-000303</td>\n",
       "      <td>2025-02-12</td>\n",
       "      <td>4599.87</td>\n",
       "      <td>EyeCare Smallville</td>\n",
       "      <td>Smallville</td>\n",
       "      <td>DISP-006754</td>\n",
       "      <td>464413.0</td>\n",
       "      <td>2025-04-12</td>\n",
       "      <td>kasey.convertem</td>\n",
       "      <td>False</td>\n",
       "      <td>CLM-006754</td>\n",
       "      <td>2025-06-11</td>\n",
       "      <td>124.73</td>\n",
       "      <td>False</td>\n",
       "    </tr>\n",
       "  </tbody>\n",
       "</table>\n",
       "</div>"
      ],
      "text/plain": [
       "  Vial Number   Lot Number Expiration Date  Purchase Price Invoice Number  \\\n",
       "0  VN-0000001  LOT-5169460      2026-04-30            50.0     INV-000402   \n",
       "1  VN-0000002  LOT-5228790      2026-04-30            50.0     INV-000637   \n",
       "2  VN-0000003  LOT-5134343      2026-04-30            50.0     INV-000757   \n",
       "3  VN-0000004  LOT-4417439      2026-04-30            50.0     INV-000284   \n",
       "4  VN-0000005  LOT-8583121      2026-04-30            50.0     INV-000303   \n",
       "\n",
       "  Invoice Date  Total Amount            Provider    Location  Dispense ID  \\\n",
       "0   2025-07-28        902.06    Eye Care BigTown     BigTown  DISP-000293   \n",
       "1   2025-06-15       2237.03  EyeCare Smallville  Smallville  DISP-000293   \n",
       "2   2025-07-06       2480.64  EyeCare Smallville     BigTown  DISP-004397   \n",
       "3   2025-04-26       2514.06  EyeCare Smallville     BigTown  DISP-004397   \n",
       "4   2025-02-12       4599.87  EyeCare Smallville  Smallville  DISP-006754   \n",
       "\n",
       "   Patient ID Date Of Dispense         Username Unscanned    Claim ID  \\\n",
       "0    676660.0       2025-04-15         asha.lou     False  CLM-000293   \n",
       "1    676660.0       2025-04-15         asha.lou     False  CLM-000293   \n",
       "2    962805.0       2025-04-10        jen.kirby     False  CLM-004397   \n",
       "3    962805.0       2025-04-10        jen.kirby     False  CLM-004397   \n",
       "4    464413.0       2025-04-12  kasey.convertem     False  CLM-006754   \n",
       "\n",
       "   Claim Date  Amount Denied  \n",
       "0  2025-07-28  153.83  False  \n",
       "1  2025-07-28  153.83  False  \n",
       "2  2025-06-19  116.12  False  \n",
       "3  2025-06-19  116.12  False  \n",
       "4  2025-06-11  124.73  False  "
      ]
     },
     "execution_count": 13,
     "metadata": {},
     "output_type": "execute_result"
    }
   ],
   "source": [
    "full_df.head()"
   ]
  },
  {
   "cell_type": "code",
   "execution_count": 14,
   "metadata": {
    "id": "a3b4e7da"
   },
   "outputs": [
    {
     "name": "stdout",
     "output_type": "stream",
     "text": [
      "--- Ophthalmology Drug Tracking Analysis ---\n",
      "\n",
      "## Unscanned Vials Report (900 found)\n",
      "The following vials were dispensed but not scanned, leading to potential revenue loss:\n",
      "      Vial Number   Lot Number  Purchase Price  Dispense ID  Patient ID  \\\n",
      "6      VN-0000005  LOT-8583121            50.0  DISP-010328    567386.0   \n",
      "34     VN-0000025  LOT-5251569            50.0  DISP-003474    930415.0   \n",
      "49     VN-0000037  LOT-8468932            50.0  DISP-002492    435402.0   \n",
      "50     VN-0000038  LOT-1985938            50.0  DISP-002492    435402.0   \n",
      "71     VN-0000050  LOT-8239582            50.0  DISP-007851    722927.0   \n",
      "...           ...          ...             ...          ...         ...   \n",
      "15642  VN-0011909  LOT-9133802            50.0  DISP-005509    882115.0   \n",
      "15643  VN-0011910  LOT-7320978            50.0  DISP-005509    882115.0   \n",
      "15702  VN-0011958  LOT-7102116            50.0  DISP-006094    820014.0   \n",
      "15703  VN-0011959  LOT-3824453            50.0  DISP-006094    820014.0   \n",
      "15738  VN-0011989  LOT-1939158            50.0  DISP-010813    240671.0   \n",
      "\n",
      "      Date Of Dispense         Username  \n",
      "6           2025-05-04        jen.kirby  \n",
      "34          2025-03-01      dina.dropem  \n",
      "49          2025-05-08      dina.dropem  \n",
      "50          2025-05-08      dina.dropem  \n",
      "71          2025-06-11       sarah.benz  \n",
      "...                ...              ...  \n",
      "15642       2025-02-28        jen.kirby  \n",
      "15643       2025-02-28        jen.kirby  \n",
      "15702       2025-07-06        jen.kirby  \n",
      "15703       2025-07-06        jen.kirby  \n",
      "15738       2025-03-28  kasey.convertem  \n",
      "\n",
      "[900 rows x 7 columns]\n"
     ]
    }
   ],
   "source": [
    "# Analyze and report\n",
    "print(\"--- Ophthalmology Drug Tracking Analysis ---\")\n",
    "\n",
    "# 1. Identify Unscanned Vials\n",
    "unscanned_vials = full_df[full_df['Unscanned'] == True]\n",
    "print(f\"\\n## Unscanned Vials Report ({len(unscanned_vials)} found)\")\n",
    "if not unscanned_vials.empty:\n",
    "    print(\"The following vials were dispensed but not scanned, leading to potential revenue loss:\")\n",
    "    print(unscanned_vials[['Vial Number', 'Lot Number', 'Purchase Price', 'Dispense ID', 'Patient ID', 'Date Of Dispense', 'Username']])\n",
    "else:\n",
    "    print(\"No unscanned vials found.\")"
   ]
  },
  {
   "cell_type": "code",
   "execution_count": 15,
   "metadata": {},
   "outputs": [
    {
     "name": "stdout",
     "output_type": "stream",
     "text": [
      "\n",
      "## Denied Claims Report (590 found)\n",
      "The following claims were denied by insurance:\n",
      "         Claim ID  Dispense ID Vial Number  Patient ID  Claim Date  Amount\n",
      "6      CLM-010328  DISP-010328  VN-0000005    567386.0  2025-09-09   92.40\n",
      "49     CLM-002492  DISP-002492  VN-0000037    435402.0  2025-03-26  102.98\n",
      "50     CLM-002492  DISP-002492  VN-0000038    435402.0  2025-03-26  102.98\n",
      "71     CLM-007851  DISP-007851  VN-0000050    722927.0  2025-02-22  119.08\n",
      "76     CLM-000043  DISP-000043  VN-0000055    702136.0  2025-05-07   65.80\n",
      "...           ...          ...         ...         ...         ...     ...\n",
      "15583  CLM-005342  DISP-005342  VN-0011867    409574.0  2025-04-21  155.99\n",
      "15642  CLM-005509  DISP-005509  VN-0011909    882115.0  2025-03-19  174.90\n",
      "15643  CLM-005509  DISP-005509  VN-0011910    882115.0  2025-03-19  174.90\n",
      "15702  CLM-006094  DISP-006094  VN-0011958    820014.0  2025-07-11  180.63\n",
      "15703  CLM-006094  DISP-006094  VN-0011959    820014.0  2025-07-11  180.63\n",
      "\n",
      "[590 rows x 6 columns]\n"
     ]
    }
   ],
   "source": [
    "# 2. Identify Denied Claims\n",
    "denied_claims = full_df[full_df['Denied'] == True]\n",
    "print(f\"\\n## Denied Claims Report ({len(denied_claims)} found)\")\n",
    "if not denied_claims.empty:\n",
    "    print(\"The following claims were denied by insurance:\")\n",
    "    print(denied_claims[['Claim ID', 'Dispense ID', 'Vial Number', 'Patient ID', 'Claim Date', 'Amount']])\n",
    "else:\n",
    "    print(\"No denied claims found.\")"
   ]
  },
  {
   "cell_type": "code",
   "execution_count": 16,
   "metadata": {},
   "outputs": [
    {
     "name": "stdout",
     "output_type": "stream",
     "text": [
      "\n",
      "## Profitability Analysis\n",
      "Total Revenue from Reimbursed Claims: $1,978,121.40\n",
      "Total Cost of Goods Sold: $758,150.00\n",
      "Total Profit: $1,219,971.40\n",
      "\n",
      "### Top 5 Most Profitable Vials:\n",
      "      Vial Number  Purchase Price  Amount  Profit\n",
      "15     VN-0000010            50.0  199.98  149.98\n",
      "2695   VN-0002064            50.0  199.96  149.96\n",
      "13870  VN-0010556            50.0  199.94  149.94\n",
      "635    VN-0000473            50.0  199.91  149.91\n",
      "13145  VN-0010004            50.0  199.91  149.91\n",
      "\n",
      "### Top 5 Least Profitable Vials:\n",
      "      Vial Number  Purchase Price  Amount  Profit\n",
      "14142  VN-0010762            50.0   60.01   10.01\n",
      "6070   VN-0004648            50.0   60.03   10.03\n",
      "6071   VN-0004649            50.0   60.03   10.03\n",
      "7035   VN-0005378            50.0   60.03   10.03\n",
      "14811  VN-0011287            50.0   60.03   10.03\n"
     ]
    },
    {
     "name": "stderr",
     "output_type": "stream",
     "text": [
      "C:\\Users\\rahul\\AppData\\Local\\Temp\\ipykernel_2764\\2699999186.py:3: SettingWithCopyWarning: \n",
      "A value is trying to be set on a copy of a slice from a DataFrame.\n",
      "Try using .loc[row_indexer,col_indexer] = value instead\n",
      "\n",
      "See the caveats in the documentation: https://pandas.pydata.org/pandas-docs/stable/user_guide/indexing.html#returning-a-view-versus-a-copy\n",
      "  reimbursed_claims['Profit'] = reimbursed_claims['Amount'] - reimbursed_claims['Purchase Price']\n"
     ]
    }
   ],
   "source": [
    "# 3. Profitability Analysis\n",
    "reimbursed_claims = full_df[(full_df['Denied'] == False) & (full_df['Amount'].notna())]\n",
    "reimbursed_claims['Profit'] = reimbursed_claims['Amount'] - reimbursed_claims['Purchase Price']\n",
    "\n",
    "total_revenue = reimbursed_claims['Amount'].sum()\n",
    "total_cost = reimbursed_claims['Purchase Price'].sum()\n",
    "total_profit = reimbursed_claims['Profit'].sum()\n",
    "\n",
    "print(\"\\n## Profitability Analysis\")\n",
    "print(f\"Total Revenue from Reimbursed Claims: ${total_revenue:,.2f}\")\n",
    "print(f\"Total Cost of Goods Sold: ${total_cost:,.2f}\")\n",
    "print(f\"Total Profit: ${total_profit:,.2f}\")\n",
    "\n",
    "if not reimbursed_claims.empty:\n",
    "    print(\"\\n### Top 5 Most Profitable Vials:\")\n",
    "    print(reimbursed_claims.nlargest(5, 'Profit')[['Vial Number', 'Purchase Price', 'Amount', 'Profit']])\n",
    "    print(\"\\n### Top 5 Least Profitable Vials:\")\n",
    "    print(reimbursed_claims.nsmallest(5, 'Profit')[['Vial Number', 'Purchase Price', 'Amount', 'Profit']])"
   ]
  }
 ],
 "metadata": {
  "kernelspec": {
   "display_name": "Python [conda env:base] *",
   "language": "python",
   "name": "conda-base-py"
  },
  "language_info": {
   "codemirror_mode": {
    "name": "ipython",
    "version": 3
   },
   "file_extension": ".py",
   "mimetype": "text/x-python",
   "name": "python",
   "nbconvert_exporter": "python",
   "pygments_lexer": "ipython3",
   "version": "3.12.7"
  }
 },
 "nbformat": 4,
 "nbformat_minor": 4
}
