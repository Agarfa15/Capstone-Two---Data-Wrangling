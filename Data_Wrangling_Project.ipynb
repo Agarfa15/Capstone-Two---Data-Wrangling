{
    "cells": [
     {
      "cell_type": "markdown",
      "metadata": {},
      "source": [
       "# Data Wrangling Project\n",
       "\n",
       ""
      ]
     },
     {
      "cell_type": "code",
      "execution_count": null,
      "metadata": {
       "id": "e1c2d7b1"
      },
      "outputs": [],
      "source": [
       "import pandas as pd\n",
       "\n",
       "# Load datasets\n",
       "try:\n",
       "    invoices_df = pd.read_csv(\"synthetic_invoices.csv\")\n",
       "    vials_df = pd.read_csv(\"synthetic_vials.csv\")\n",
       "    dispense_log_df = pd.read_csv(\"synthetic_dispense_log.csv\")\n",
       "    claims_df = pd.read_csv(\"synthetic_claims.csv\")\n",
       "except FileNotFoundError as e:\n",
       "    print(f\"Error loading data: {e}. Please ensure all CSV files are in the correct directory.\")\n",
       "    raise\n"
      ]
     },
     {
      "cell_type": "markdown",
      "metadata": {},
      "source": [
       "## Data Collection\n",
       "\n",
       ""
      ]
     },
     {
      "cell_type": "code",
      "execution_count": null,
      "metadata": {
       "id": "c5f7e5b6"
      },
      "outputs": [],
      "source": [
       "# Clean 'Purchase Price' in vials_df\n",
       "vials_df['Purchase Price'] = vials_df['Purchase Price'].replace({'\\$': ''}, regex=True).astype(float)\n",
       "\n",
       "# Merge datasets\n",
       "vial_invoice_df = pd.merge(vials_df, invoices_df, on=\"Invoice Number\", how=\"left\")\n",
       "full_df = pd.merge(vial_invoice_df, dispense_log_df, on=\"Vial Number\", how=\"left\")\n",
       "full_df = pd.merge(full_df, claims_df, on=\"Dispense ID\", how=\"left\")\n"
      ]
     },
     {
      "cell_type": "markdown",
      "metadata": {},
      "source": [
       "## Data Organization\n",
       "\n",
       ""
      ]
     },
     {
      "cell_type": "code",
      "execution_count": null,
      "metadata": {
       "id": "a3b4e7da"
      },
      "outputs": [],
      "source": [
       "# Analyze and report\n",
       "print(\"--- Ophthalmology Drug Tracking Analysis ---\")\n",
       "\n",
       "# 1. Identify Unscanned Vials\n",
       "unscanned_vials = full_df[full_df['Unscanned'] == True]\n",
       "print(f\"\\n## Unscanned Vials Report ({len(unscanned_vials)} found)\")\n",
       "if not unscanned_vials.empty:\n",
       "    print(\"The following vials were dispensed but not scanned, leading to potential revenue loss:\")\n",
       "    print(unscanned_vials[['Vial Number', 'Lot Number', 'Purchase Price', 'Dispense ID', 'Patient ID', 'Date Of Dispense', 'Username']])\n",
       "else:\n",
       "    print(\"No unscanned vials found.\")\n",
       "\n",
       "# 2. Identify Denied Claims\n",
       "denied_claims = full_df[full_df['Denied'] == True]\n",
       "print(f\"\\n## Denied Claims Report ({len(denied_claims)} found)\")\n",
       "if not denied_claims.empty:\n",
       "    print(\"The following claims were denied by insurance:\")\n",
       "    print(denied_claims[['Claim ID', 'Dispense ID', 'Vial Number', 'Patient ID', 'Claim Date', 'Amount']])\n",
       "else:\n",
       "    print(\"No denied claims found.\")\n",
       "\n",
       "# 3. Profitability Analysis\n",
       "reimbursed_claims = full_df[(full_df['Denied'] == False) & (full_df['Amount'].notna())]\n",
       "reimbursed_claims['Profit'] = reimbursed_claims['Amount'] - reimbursed_claims['Purchase Price']\n",
       "\n",
       "total_revenue = reimbursed_claims['Amount'].sum()\n",
       "total_cost = reimbursed_claims['Purchase Price'].sum()\n",
       "total_profit = reimbursed_claims['Profit'].sum()\n",
       "\n",
       "print(\"\\n## Profitability Analysis\")\n",
       "print(f\"Total Revenue from Reimbursed Claims: ${total_revenue:,.2f}\")\n",
       "print(f\"Total Cost of Goods Sold: ${total_cost:,.2f}\")\n",
       "print(f\"Total Profit: ${total_profit:,.2f}\")\n",
       "\n",
       "if not reimbursed_claims.empty:\n",
       "    print(\"\\n### Top 5 Most Profitable Vials:\")\n",
       "    print(reimbursed_claims.nlargest(5, 'Profit')[['Vial Number', 'Purchase Price', 'Amount', 'Profit']])\n",
       "    print(\"\\n### Top 5 Least Profitable Vials:\")\n",
       "    print(reimbursed_claims.nsmallest(5, 'Profit')[['Vial Number', 'Purchase Price', 'Amount', 'Profit']])\n"
      ]
     },
     {
      "cell_type": "markdown",
      "metadata": {},
      "source": [
       "## Data Cleaning\n",
       "\n",
       ""
      ]
     },
     {
      "cell_type": "code",
      "execution_count": null,
      "metadata": {
       "id": "f4e2b8a2"
      },
      "outputs": [],
      "source": [
       "# Check for duplicates\n",
       "duplicates = full_df.duplicated().sum()\n",
       "print(f\"Number of duplicate rows: {duplicates}\")\n",
       "\n",
       "# Remove duplicates if any\n",
       "if duplicates > 0:\n",
       "    full_df = full_df.drop_duplicates()\n",
       "    print(\"Duplicates removed.\")\n",
       "else:\n",
       "    print(\"No duplicates found.\")\n",
       "\n",
       "# Check for missing values\n",
       "missing_values = full_df.isnull().sum()\n",
       "print(\"Missing values in each column:\")\n",
       "print(missing_values[missing_values > 0])\n",
       "\n",
       "# Handle missing values (example: fill with mean or drop)\n",
       "full_df.fillna(method='ffill', inplace=True)  # Forward fill as an example\n",
       "print(\"Missing values handled.\")\n"
      ]
     },
     {
      "cell_type": "markdown",
      "metadata": {},
      "source": [
       "## Conclusion\n",
       "\n",
       ""
      ]
     }
    ],
    "metadata": {
     "kernelspec": {
      "display_name": "Python 3",
      "language": "python",
      "name": "python3"
     },
     "language_info": {
      "codemirror_mode": {
       "name": "ipython",
       "version": 3
      },
      "file_extension": ".py",
      "mimetype": "text/x-python",
      "name": "python",
      "nbconvert_exporter": "python",
      "pygments_lexer": "ipython3",
      "version": "3.8.5"
     }
    },
    "nbformat": 4,
    "nbformat_minor": 4
   }

   
